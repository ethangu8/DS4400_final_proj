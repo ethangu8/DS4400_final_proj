{
 "cells": [
  {
   "cell_type": "code",
   "execution_count": 1,
   "id": "924300b1",
   "metadata": {},
   "outputs": [],
   "source": [
    "import pandas as pd\n",
    "import re\n",
    "from collections import Counter\n",
    "import math\n",
    "import matplotlib.pyplot as plt\n",
    "import numpy as np\n",
    "from sklearn.model_selection import train_test_split\n",
    "from sklearn.metrics import accuracy_score, confusion_matrix\n",
    "\n",
    "# Ignore future warnings just to make the notebook look a little neater\n",
    "import warnings\n",
    "warnings.simplefilter(action='ignore', category=FutureWarning)"
   ]
  },
  {
   "cell_type": "markdown",
   "id": "69b9199f",
   "metadata": {},
   "source": [
    "Issues with Data:\n",
    "\n",
    "bankruptcy_Test_X.csv: Does not contain a class column so we can check our accuracy\n",
    "data.csv: Does not use the same attribute list as our bankruptcy_Train, which is larger so we can't use this either"
   ]
  },
  {
   "cell_type": "code",
   "execution_count": 2,
   "id": "3e845485",
   "metadata": {},
   "outputs": [],
   "source": [
    "# Import our data as csv files from Kaggle, values are already normalized and split into test and training data\n",
    "test_x = pd.read_csv('bankruptcy_Test_X.csv')\n",
    "train = pd.read_csv('bankruptcy_Train.csv')"
   ]
  },
  {
   "cell_type": "code",
   "execution_count": 3,
   "id": "fcdf6d3a",
   "metadata": {},
   "outputs": [],
   "source": [
    "cols = list(train.columns)\n",
    "x_cols = cols[:-1]\n",
    "\n",
    "X = train[x_cols]\n",
    "y = train['class']\n",
    "\n",
    "X_train, X_test, y_train, y_test = train_test_split(X, y, test_size=0.2)"
   ]
  },
  {
   "cell_type": "code",
   "execution_count": 4,
   "id": "ab07e8c1",
   "metadata": {},
   "outputs": [
    {
     "data": {
      "text/html": [
       "<div>\n",
       "<style scoped>\n",
       "    .dataframe tbody tr th:only-of-type {\n",
       "        vertical-align: middle;\n",
       "    }\n",
       "\n",
       "    .dataframe tbody tr th {\n",
       "        vertical-align: top;\n",
       "    }\n",
       "\n",
       "    .dataframe thead th {\n",
       "        text-align: right;\n",
       "    }\n",
       "</style>\n",
       "<table border=\"1\" class=\"dataframe\">\n",
       "  <thead>\n",
       "    <tr style=\"text-align: right;\">\n",
       "      <th></th>\n",
       "      <th>Attr1</th>\n",
       "      <th>Attr2</th>\n",
       "      <th>Attr3</th>\n",
       "      <th>Attr4</th>\n",
       "      <th>Attr5</th>\n",
       "      <th>Attr6</th>\n",
       "      <th>Attr7</th>\n",
       "      <th>Attr8</th>\n",
       "      <th>Attr9</th>\n",
       "      <th>Attr10</th>\n",
       "      <th>...</th>\n",
       "      <th>Attr56</th>\n",
       "      <th>Attr57</th>\n",
       "      <th>Attr58</th>\n",
       "      <th>Attr59</th>\n",
       "      <th>Attr60</th>\n",
       "      <th>Attr61</th>\n",
       "      <th>Attr62</th>\n",
       "      <th>Attr63</th>\n",
       "      <th>Attr64</th>\n",
       "      <th>class</th>\n",
       "    </tr>\n",
       "  </thead>\n",
       "  <tbody>\n",
       "    <tr>\n",
       "      <th>count</th>\n",
       "      <td>10000.000000</td>\n",
       "      <td>10000.000000</td>\n",
       "      <td>10000.000000</td>\n",
       "      <td>10000.000000</td>\n",
       "      <td>10000.000000</td>\n",
       "      <td>10000.000000</td>\n",
       "      <td>10000.000000</td>\n",
       "      <td>10000.000000</td>\n",
       "      <td>10000.000000</td>\n",
       "      <td>10000.000000</td>\n",
       "      <td>...</td>\n",
       "      <td>10000.000000</td>\n",
       "      <td>10000.000000</td>\n",
       "      <td>10000.000000</td>\n",
       "      <td>10000.000000</td>\n",
       "      <td>10000.000000</td>\n",
       "      <td>10000.000000</td>\n",
       "      <td>10000.000000</td>\n",
       "      <td>10000.000000</td>\n",
       "      <td>10000.000000</td>\n",
       "      <td>10000.000000</td>\n",
       "    </tr>\n",
       "    <tr>\n",
       "      <th>mean</th>\n",
       "      <td>0.007954</td>\n",
       "      <td>-0.007140</td>\n",
       "      <td>-0.003544</td>\n",
       "      <td>0.005005</td>\n",
       "      <td>-0.004687</td>\n",
       "      <td>0.001455</td>\n",
       "      <td>-0.006963</td>\n",
       "      <td>0.009053</td>\n",
       "      <td>0.006763</td>\n",
       "      <td>0.007456</td>\n",
       "      <td>...</td>\n",
       "      <td>0.009804</td>\n",
       "      <td>0.005208</td>\n",
       "      <td>-0.009751</td>\n",
       "      <td>-0.002655</td>\n",
       "      <td>0.004548</td>\n",
       "      <td>0.014331</td>\n",
       "      <td>-0.006864</td>\n",
       "      <td>0.020750</td>\n",
       "      <td>-0.003984</td>\n",
       "      <td>0.020300</td>\n",
       "    </tr>\n",
       "    <tr>\n",
       "      <th>std</th>\n",
       "      <td>1.396405</td>\n",
       "      <td>1.409440</td>\n",
       "      <td>1.015494</td>\n",
       "      <td>0.908020</td>\n",
       "      <td>1.394750</td>\n",
       "      <td>1.286713</td>\n",
       "      <td>1.412509</td>\n",
       "      <td>1.064426</td>\n",
       "      <td>1.171199</td>\n",
       "      <td>1.407349</td>\n",
       "      <td>...</td>\n",
       "      <td>0.017370</td>\n",
       "      <td>0.718682</td>\n",
       "      <td>0.026124</td>\n",
       "      <td>0.467139</td>\n",
       "      <td>1.252571</td>\n",
       "      <td>1.171160</td>\n",
       "      <td>0.277288</td>\n",
       "      <td>1.115182</td>\n",
       "      <td>0.930875</td>\n",
       "      <td>0.141032</td>\n",
       "    </tr>\n",
       "    <tr>\n",
       "      <th>min</th>\n",
       "      <td>-9.474787</td>\n",
       "      <td>-140.604555</td>\n",
       "      <td>-25.597146</td>\n",
       "      <td>-0.381641</td>\n",
       "      <td>-138.720013</td>\n",
       "      <td>-26.249562</td>\n",
       "      <td>-141.176615</td>\n",
       "      <td>-0.966015</td>\n",
       "      <td>-1.294340</td>\n",
       "      <td>-2.528495</td>\n",
       "      <td>...</td>\n",
       "      <td>-1.657288</td>\n",
       "      <td>-42.381245</td>\n",
       "      <td>-0.037484</td>\n",
       "      <td>-3.218490</td>\n",
       "      <td>-0.048598</td>\n",
       "      <td>-0.412525</td>\n",
       "      <td>-0.022204</td>\n",
       "      <td>-0.743297</td>\n",
       "      <td>-0.050969</td>\n",
       "      <td>0.000000</td>\n",
       "    </tr>\n",
       "    <tr>\n",
       "      <th>25%</th>\n",
       "      <td>-0.079776</td>\n",
       "      <td>-0.055604</td>\n",
       "      <td>-0.516971</td>\n",
       "      <td>-0.192306</td>\n",
       "      <td>0.006798</td>\n",
       "      <td>-0.016047</td>\n",
       "      <td>-0.008018</td>\n",
       "      <td>-0.445667</td>\n",
       "      <td>-0.388184</td>\n",
       "      <td>-0.068584</td>\n",
       "      <td>...</td>\n",
       "      <td>0.009315</td>\n",
       "      <td>0.003199</td>\n",
       "      <td>-0.010766</td>\n",
       "      <td>-0.022740</td>\n",
       "      <td>-0.043418</td>\n",
       "      <td>-0.221237</td>\n",
       "      <td>-0.016847</td>\n",
       "      <td>-0.371384</td>\n",
       "      <td>-0.041603</td>\n",
       "      <td>0.000000</td>\n",
       "    </tr>\n",
       "    <tr>\n",
       "      <th>50%</th>\n",
       "      <td>-0.019204</td>\n",
       "      <td>0.000246</td>\n",
       "      <td>0.003186</td>\n",
       "      <td>-0.117972</td>\n",
       "      <td>0.007302</td>\n",
       "      <td>-0.016047</td>\n",
       "      <td>0.004280</td>\n",
       "      <td>-0.260150</td>\n",
       "      <td>-0.307842</td>\n",
       "      <td>0.000253</td>\n",
       "      <td>...</td>\n",
       "      <td>0.009838</td>\n",
       "      <td>0.010013</td>\n",
       "      <td>-0.009924</td>\n",
       "      <td>-0.020438</td>\n",
       "      <td>-0.039928</td>\n",
       "      <td>-0.139653</td>\n",
       "      <td>-0.013821</td>\n",
       "      <td>-0.180311</td>\n",
       "      <td>-0.034319</td>\n",
       "      <td>0.000000</td>\n",
       "    </tr>\n",
       "    <tr>\n",
       "      <th>75%</th>\n",
       "      <td>0.081218</td>\n",
       "      <td>0.056957</td>\n",
       "      <td>0.585722</td>\n",
       "      <td>0.022705</td>\n",
       "      <td>0.007753</td>\n",
       "      <td>0.016026</td>\n",
       "      <td>0.024222</td>\n",
       "      <td>0.098874</td>\n",
       "      <td>0.156638</td>\n",
       "      <td>0.070036</td>\n",
       "      <td>...</td>\n",
       "      <td>0.010693</td>\n",
       "      <td>0.019900</td>\n",
       "      <td>-0.009416</td>\n",
       "      <td>-0.014401</td>\n",
       "      <td>-0.031820</td>\n",
       "      <td>-0.002210</td>\n",
       "      <td>-0.009476</td>\n",
       "      <td>0.133244</td>\n",
       "      <td>-0.020507</td>\n",
       "      <td>0.000000</td>\n",
       "    </tr>\n",
       "    <tr>\n",
       "      <th>max</th>\n",
       "      <td>137.557872</td>\n",
       "      <td>2.004925</td>\n",
       "      <td>3.324327</td>\n",
       "      <td>60.825460</td>\n",
       "      <td>11.556238</td>\n",
       "      <td>121.354736</td>\n",
       "      <td>0.623095</td>\n",
       "      <td>47.504463</td>\n",
       "      <td>62.936396</td>\n",
       "      <td>140.123299</td>\n",
       "      <td>...</td>\n",
       "      <td>0.036727</td>\n",
       "      <td>37.405312</td>\n",
       "      <td>2.551674</td>\n",
       "      <td>27.969785</td>\n",
       "      <td>117.341069</td>\n",
       "      <td>59.139158</td>\n",
       "      <td>23.970250</td>\n",
       "      <td>62.527240</td>\n",
       "      <td>90.774695</td>\n",
       "      <td>1.000000</td>\n",
       "    </tr>\n",
       "  </tbody>\n",
       "</table>\n",
       "<p>8 rows × 65 columns</p>\n",
       "</div>"
      ],
      "text/plain": [
       "              Attr1         Attr2         Attr3         Attr4         Attr5  \\\n",
       "count  10000.000000  10000.000000  10000.000000  10000.000000  10000.000000   \n",
       "mean       0.007954     -0.007140     -0.003544      0.005005     -0.004687   \n",
       "std        1.396405      1.409440      1.015494      0.908020      1.394750   \n",
       "min       -9.474787   -140.604555    -25.597146     -0.381641   -138.720013   \n",
       "25%       -0.079776     -0.055604     -0.516971     -0.192306      0.006798   \n",
       "50%       -0.019204      0.000246      0.003186     -0.117972      0.007302   \n",
       "75%        0.081218      0.056957      0.585722      0.022705      0.007753   \n",
       "max      137.557872      2.004925      3.324327     60.825460     11.556238   \n",
       "\n",
       "              Attr6         Attr7         Attr8         Attr9        Attr10  \\\n",
       "count  10000.000000  10000.000000  10000.000000  10000.000000  10000.000000   \n",
       "mean       0.001455     -0.006963      0.009053      0.006763      0.007456   \n",
       "std        1.286713      1.412509      1.064426      1.171199      1.407349   \n",
       "min      -26.249562   -141.176615     -0.966015     -1.294340     -2.528495   \n",
       "25%       -0.016047     -0.008018     -0.445667     -0.388184     -0.068584   \n",
       "50%       -0.016047      0.004280     -0.260150     -0.307842      0.000253   \n",
       "75%        0.016026      0.024222      0.098874      0.156638      0.070036   \n",
       "max      121.354736      0.623095     47.504463     62.936396    140.123299   \n",
       "\n",
       "       ...        Attr56        Attr57        Attr58        Attr59  \\\n",
       "count  ...  10000.000000  10000.000000  10000.000000  10000.000000   \n",
       "mean   ...      0.009804      0.005208     -0.009751     -0.002655   \n",
       "std    ...      0.017370      0.718682      0.026124      0.467139   \n",
       "min    ...     -1.657288    -42.381245     -0.037484     -3.218490   \n",
       "25%    ...      0.009315      0.003199     -0.010766     -0.022740   \n",
       "50%    ...      0.009838      0.010013     -0.009924     -0.020438   \n",
       "75%    ...      0.010693      0.019900     -0.009416     -0.014401   \n",
       "max    ...      0.036727     37.405312      2.551674     27.969785   \n",
       "\n",
       "             Attr60        Attr61        Attr62        Attr63        Attr64  \\\n",
       "count  10000.000000  10000.000000  10000.000000  10000.000000  10000.000000   \n",
       "mean       0.004548      0.014331     -0.006864      0.020750     -0.003984   \n",
       "std        1.252571      1.171160      0.277288      1.115182      0.930875   \n",
       "min       -0.048598     -0.412525     -0.022204     -0.743297     -0.050969   \n",
       "25%       -0.043418     -0.221237     -0.016847     -0.371384     -0.041603   \n",
       "50%       -0.039928     -0.139653     -0.013821     -0.180311     -0.034319   \n",
       "75%       -0.031820     -0.002210     -0.009476      0.133244     -0.020507   \n",
       "max      117.341069     59.139158     23.970250     62.527240     90.774695   \n",
       "\n",
       "              class  \n",
       "count  10000.000000  \n",
       "mean       0.020300  \n",
       "std        0.141032  \n",
       "min        0.000000  \n",
       "25%        0.000000  \n",
       "50%        0.000000  \n",
       "75%        0.000000  \n",
       "max        1.000000  \n",
       "\n",
       "[8 rows x 65 columns]"
      ]
     },
     "execution_count": 4,
     "metadata": {},
     "output_type": "execute_result"
    }
   ],
   "source": [
    "train.describe()"
   ]
  },
  {
   "cell_type": "code",
   "execution_count": 34,
   "id": "89cc9539",
   "metadata": {},
   "outputs": [
    {
     "data": {
      "image/png": "[encoded data removed]",
      "text/plain": [
       "<Figure size 720x432 with 2 Axes>"
      ]
     },
     "metadata": {
      "needs_background": "light"
     },
     "output_type": "display_data"
    }
   ],
   "source": [
    "# Exploratory Data Analysis where we can see how attributes relate to each other\n",
    "\n",
    "attr_list1 = x_cols[:15]\n",
    "attr_list2 = x_cols[15:30]\n",
    "attr_list3 = x_cols[30:45]\n",
    "attr_list4 = x_cols[45:]\n",
    "corr_df = X_train[attr_list1]\n",
    "\n",
    "\n",
    "import seaborn as sns\n",
    "f, ax = plt.subplots(figsize=(10, 6))\n",
    "corr = corr_df.corr()\n",
    "hm = sns.heatmap(round(corr,2), annot=True, ax=ax, cmap=\"coolwarm\",fmt='.2f',\n",
    "                 linewidths=.05)\n",
    "f.subplots_adjust(top=0.93)\n",
    "t= f.suptitle('Bankruptcy Attributes Correlation Heatmap', fontsize=12)"
   ]
  },
  {
   "cell_type": "code",
   "execution_count": 5,
   "id": "1f2cea6b",
   "metadata": {},
   "outputs": [],
   "source": [
    "#Metrics function we can use to evaluate our models\n",
    "def confusion_matrix(y_true, y_pred):\n",
    "    \"\"\" Generate a confusion matrix.\n",
    "    y = actual outcomes (0, 1, 2, ...)\n",
    "    y_pred = predicted outcomes (0, 1, 2, ...)\n",
    "    return confusion matrix as a numpy array\n",
    "    \"\"\"\n",
    "    \n",
    "    # Find unique identifiers\n",
    "    unique_classes = set(y_true) | set(y_pred)\n",
    "    n_classes = len(unique_classes)\n",
    "    \n",
    "    # Create matrix (all zeros)\n",
    "    matrix = np.zeros(shape=(n_classes, n_classes), dtype=int)\n",
    "    \n",
    "    # Pair up each actual outcome with the corresponding prediction\n",
    "    actual_prediction = list(zip(y_true, y_pred))\n",
    "    \n",
    "    # For each pair, increment the correct position in the matrix\n",
    "    for i,j in actual_prediction:\n",
    "        matrix[i,j] += 1\n",
    "        \n",
    "    return matrix\n",
    "\n",
    "def metrics(y, y_pred):\n",
    "    '''\n",
    "    Parameters:\n",
    "    y, y_pred (Pandas Series): series representing actual labels(y) and predicted outcomes(y_pred)\n",
    "    \n",
    "    Returns:\n",
    "    model accuracy, sensitivity, specificity, precision, f1-score\n",
    "    '''\n",
    "    # Create a confusion matrix with our two series\n",
    "    cm = confusion_matrix(y, y_pred)\n",
    "    TN, FP, FN, TP = cm.ravel()\n",
    "    \n",
    "     # Accuracy Calcs\n",
    "    accuracy = (TN + TP)/(TN + FP + FN + TP) \n",
    "    \n",
    "    # Sensitivity Calcs\n",
    "    # TP (1,1)/ (TP (1,1) + FN (1,0)) <- wherever y actual = 1\n",
    "    sensitivity = TP/(TP + FN) \n",
    "    \n",
    "    # Specificity Calc\n",
    "    specificity = TN/(TN + FP) \n",
    "    \n",
    "    # Precision Calc\n",
    "    precision = TP/(TP + FP) \n",
    "    \n",
    "    # F1 Score Calc\n",
    "    f1_score = 2 * ((precision * sensitivity) / (precision + sensitivity)) if (precision + sensitivity) != 0 else 0\n",
    "    \n",
    "    #print(f'Accuracy: {accuracy} \\nSensitivity: {sensitivity}\\nSpecificity: {specificity}\\nPrecision: {precision}\\nf1 score: {f1_score}')\n",
    "    return {'Accuracy': round(accuracy, 4), 'Sensitivity': round(sensitivity, 4), \n",
    "            'Specificity': round(specificity, 4), 'Precision': round(precision, 4), 'f1 score': round(f1_score, 4)}"
   ]
  },
  {
   "cell_type": "code",
   "execution_count": 6,
   "id": "829ebc61",
   "metadata": {},
   "outputs": [
    {
     "data": {
      "text/plain": [
       "Counter({0: 9797, 1: 203})"
      ]
     },
     "execution_count": 6,
     "metadata": {},
     "output_type": "execute_result"
    }
   ],
   "source": [
    "# Check the amount of companies that went bankrupt in our data\n",
    "# 0 = did not bankrupt, 1 = bankrupt\n",
    "Counter(train['class'].tolist())"
   ]
  },
  {
   "cell_type": "markdown",
   "id": "09223cb7",
   "metadata": {},
   "source": [
    "## Naive Bayes (not going to use)\n",
    "Despite our project proposal suggesting Naive Bayes as a way to classify our data, we decided against it. Reason being, we wanted to implement as many of our attributes in our data as possible, and in doing so, it would be more difficult to calculate probabilities given the sheer amount of attributes that our data contains. Theoretically, we could split our data into smaller subsets of attributes, but we didn't think that it would provide an accurate enough classification given that our attribute list is over 60 attributes"
   ]
  },
  {
   "cell_type": "markdown",
   "id": "ca7aaf8e",
   "metadata": {},
   "source": [
    "## K-Nearest Neighbors"
   ]
  },
  {
   "cell_type": "code",
   "execution_count": 7,
   "id": "145645bd",
   "metadata": {},
   "outputs": [
    {
     "name": "stdout",
     "output_type": "stream",
     "text": [
      "Metrics: {'Accuracy': 0.9825, 'Sensitivity': 0.0303, 'Specificity': 0.9985, 'Precision': 0.25, 'f1 score': 0.0541}\n"
     ]
    }
   ],
   "source": [
    "from sklearn.neighbors import KNeighborsClassifier\n",
    "# Create the KNN model\n",
    "k = 5 # Set the number of neighbors to consider\n",
    "knn = KNeighborsClassifier(n_neighbors=k)\n",
    "knn.fit(X_train, y_train)\n",
    "\n",
    "# Make predictions on the testing data and evaluate the model\n",
    "y_pred = knn.predict(X_test)\n",
    "accuracy = accuracy_score(y_test, y_pred)\n",
    "knn_m = metrics(y_test, y_pred)\n",
    "print(\"Metrics:\", knn_m)"
   ]
  },
  {
   "cell_type": "markdown",
   "id": "cc4c23c1",
   "metadata": {},
   "source": [
    "## Neural Network"
   ]
  },
  {
   "cell_type": "markdown",
   "id": "5a2ef432",
   "metadata": {},
   "source": [
    "Another approach, inspired by https://www.kaggle.com/code/karthik7395/binary-classification-using-neural-networks/notebook\n",
    "\n",
    "make sure to run these if not already installed:\n",
    "- pip install keras\n",
    "- pip install tensorflow --user"
   ]
  },
  {
   "cell_type": "code",
   "execution_count": 8,
   "id": "558e26fd",
   "metadata": {},
   "outputs": [],
   "source": [
    "from keras.models import Sequential\n",
    "from keras.layers import Dense\n",
    "from keras import optimizers"
   ]
  },
  {
   "cell_type": "code",
   "execution_count": 9,
   "id": "470b1320",
   "metadata": {},
   "outputs": [],
   "source": [
    "hidden_units=100\n",
    "learning_rate=0.01\n",
    "hidden_layer_act='tanh'\n",
    "output_layer_act='sigmoid'\n",
    "no_epochs=100\n",
    "\n",
    "model = Sequential()"
   ]
  },
  {
   "cell_type": "code",
   "execution_count": 10,
   "id": "215e3fd5",
   "metadata": {},
   "outputs": [
    {
     "name": "stdout",
     "output_type": "stream",
     "text": [
      "Model: \"sequential\"\n",
      "_________________________________________________________________\n",
      " Layer (type)                Output Shape              Param #   \n",
      "=================================================================\n",
      " dense (Dense)               (None, 64)                4160      \n",
      "                                                                 \n",
      " dense_1 (Dense)             (None, 64)                4160      \n",
      "                                                                 \n",
      " dense_2 (Dense)             (None, 1)                 65        \n",
      "                                                                 \n",
      "=================================================================\n",
      "Total params: 8,385\n",
      "Trainable params: 8,385\n",
      "Non-trainable params: 0\n",
      "_________________________________________________________________\n"
     ]
    }
   ],
   "source": [
    "model.add(Dense(64, input_shape=(64,), activation=hidden_layer_act))\n",
    "model.add(Dense(64, activation=hidden_layer_act))\n",
    "model.add(Dense(1, activation=output_layer_act))\n",
    "model.summary()"
   ]
  },
  {
   "cell_type": "code",
   "execution_count": 11,
   "id": "0099c45a",
   "metadata": {},
   "outputs": [],
   "source": [
    "sgd=optimizers.SGD(learning_rate=learning_rate)\n",
    "model.compile(loss='binary_crossentropy',optimizer=sgd, metrics=['acc'])"
   ]
  },
  {
   "cell_type": "code",
   "execution_count": 15,
   "id": "a49ae323",
   "metadata": {},
   "outputs": [],
   "source": [
    "model.fit(X_train, y_train, epochs = no_epochs, batch_size = len(train), verbose=2)\n",
    "\n",
    "predictions = model.predict(X_test)\n",
    "\n",
    "rounded = [int(round(x[0])) for x in predictions]\n",
    "\n",
    "accuracy = sum(1 for x,y in zip(rounded,y_test) if x == y) / len(y_test)"
   ]
  },
  {
   "cell_type": "code",
   "execution_count": 16,
   "id": "83dcf6b5",
   "metadata": {},
   "outputs": [
    {
     "name": "stdout",
     "output_type": "stream",
     "text": [
      "Metrics: {'Accuracy': 0.981, 'Sensitivity': 0.0, 'Specificity': 0.9975, 'Precision': 0.0, 'f1 score': 0}\n"
     ]
    }
   ],
   "source": [
    "nn_m = metrics(y_test, rounded)\n",
    "print(\"Metrics:\", nn_m)\n",
    "accuracy = accuracy_score(y_test, y_pred)"
   ]
  },
  {
   "cell_type": "markdown",
   "id": "5bf24d49",
   "metadata": {},
   "source": [
    "# Perceptron Algorithm"
   ]
  },
  {
   "cell_type": "code",
   "execution_count": 17,
   "id": "22fd4641",
   "metadata": {},
   "outputs": [],
   "source": [
    "def scores(X, w):\n",
    "    bias = w[0]\n",
    "    weights = w[1:]\n",
    "    \n",
    "    return bias + X.dot(weights)\n",
    "\n",
    "def predict(X, w):\n",
    "    score = scores(X, w)\n",
    "    y_pred = (score >= 0).astype(int)\n",
    "    \n",
    "    return y_pred\n",
    "\n",
    "def calculate_error(y_true, y_pred, scores):\n",
    "    small_val = 1e-8\n",
    "    errors = np.abs(y_true - y_pred) * np.abs(scores + small_val)\n",
    "    return errors.mean()"
   ]
  },
  {
   "cell_type": "code",
   "execution_count": 18,
   "id": "23ddf350",
   "metadata": {},
   "outputs": [],
   "source": [
    "def perceptron(data, alpha, epochs, subset=None):\n",
    "    x = data[subset] if subset else data.iloc[:, :-1]\n",
    "    y = data.iloc[:, -1]   \n",
    "    w_coef = len(x.columns) + 1\n",
    "    \n",
    "    w = list()\n",
    "    for i in range(w_coef):\n",
    "        w.append(np.random.randint(-1,2))   \n",
    "    mpe = list()\n",
    "    acc = list()\n",
    "    \n",
    "    for epoch in range(epochs):\n",
    "        y_pred = predict(x, w)\n",
    "        score = scores(x, w)\n",
    "        mpe.append(calculate_error(y, y_pred, score))\n",
    "        \n",
    "        w[0] = w[0] + (alpha * (y - y_pred)).sum()\n",
    "        for i in range(1, len(x.columns)+1):\n",
    "            w[i] = w[i] + (alpha * (y - y_pred) * data[x.columns[i-1]]).sum()\n",
    "        acc.append(metrics(y, y_pred)['Accuracy'])\n",
    "        \n",
    "    return w, mpe, acc"
   ]
  },
  {
   "cell_type": "code",
   "execution_count": 19,
   "id": "ff5622e0",
   "metadata": {},
   "outputs": [
    {
     "data": {
      "text/plain": [
       "{'Accuracy': 0.9772,\n",
       " 'Sensitivity': 0.0345,\n",
       " 'Specificity': 0.9967,\n",
       " 'Precision': 0.1795,\n",
       " 'f1 score': 0.0579}"
      ]
     },
     "execution_count": 19,
     "metadata": {},
     "output_type": "execute_result"
    }
   ],
   "source": [
    "y = train['class']\n",
    "x = train.iloc[:, :-1]\n",
    "w, mpe, acc = perceptron(train, 0.0001, 1000)\n",
    "p_metrics = metrics(y, predict(x, w))"
   ]
  },
  {
   "cell_type": "markdown",
   "id": "1deb7615",
   "metadata": {},
   "source": [
    "## Other SKlearn Classification Algorithms"
   ]
  },
  {
   "cell_type": "code",
   "execution_count": 20,
   "id": "1f7c81ac",
   "metadata": {},
   "outputs": [
    {
     "name": "stdout",
     "output_type": "stream",
     "text": [
      "Logistic Regression: {'Accuracy': 0.979, 'Sensitivity': 0.0263, 'Specificity': 0.9975, 'Precision': 0.1667, 'f1 score': 0.0455}\n",
      "Decision Tree: {'Accuracy': 0.972, 'Sensitivity': 0.3421, 'Specificity': 0.9842, 'Precision': 0.2955, 'f1 score': 0.3171}\n",
      "Random Forest: {'Accuracy': 0.981, 'Sensitivity': 0.0263, 'Specificity': 0.9995, 'Precision': 0.5, 'f1 score': 0.05}\n"
     ]
    }
   ],
   "source": [
    "# adding some other classification algorithms through sklearn, idk if we need this tho\n",
    "\n",
    "from sklearn.linear_model import LogisticRegression\n",
    "from sklearn.tree import DecisionTreeClassifier\n",
    "from sklearn.ensemble import RandomForestClassifier\n",
    "\n",
    "# assume X and y are the data and labels, respectively\n",
    "X_train, X_test, y_train, y_test = train_test_split(X, y, test_size=0.2, random_state=42)\n",
    "\n",
    "# define and fit the models\n",
    "lr = LogisticRegression()\n",
    "dt = DecisionTreeClassifier()\n",
    "rf = RandomForestClassifier()\n",
    "lr.fit(X_train, y_train)\n",
    "dt.fit(X_train, y_train)\n",
    "rf.fit(X_train, y_train)\n",
    "\n",
    "# make predictions on the test data using each model\n",
    "lr_preds = lr.predict(X_test)\n",
    "dt_preds = dt.predict(X_test)\n",
    "rf_preds = rf.predict(X_test)\n",
    "\n",
    "# calculate the metrics for each model\n",
    "lr_metrics = metrics(y_test, lr_preds)\n",
    "dt_metrics = metrics(y_test, dt_preds)\n",
    "rf_metrics = metrics(y_test, rf_preds)\n",
    "\n",
    "# print the metrics for each model\n",
    "print(\"Logistic Regression:\", lr_metrics)\n",
    "print(\"Decision Tree:\", dt_metrics)\n",
    "print(\"Random Forest:\", rf_metrics)\n"
   ]
  },
  {
   "cell_type": "markdown",
   "id": "9a737ac9",
   "metadata": {},
   "source": [
    "## Visualization"
   ]
  },
  {
   "cell_type": "code",
   "execution_count": null,
   "id": "9c8bf8cc",
   "metadata": {},
   "outputs": [],
   "source": [
    "# We want to compare and contrast how each of our six binary classification algorithms performed with their models\n",
    "all_metrics = [knn_m, nn_m, p_metrics, lr_metrics, dt_metrics, rf_metrics]\n",
    "accuracies = []\n"
   ]
  }
 ],
 "metadata": {
  "kernelspec": {
   "display_name": "Python 3",
   "language": "python",
   "name": "python3"
  },
  "language_info": {
   "codemirror_mode": {
    "name": "ipython",
    "version": 3
   },
   "file_extension": ".py",
   "mimetype": "text/x-python",
   "name": "python",
   "nbconvert_exporter": "python",
   "pygments_lexer": "ipython3",
   "version": "3.8.8"
  }
 },
 "nbformat": 4,
 "nbformat_minor": 5
}
